{
 "cells": [
  {
   "cell_type": "code",
   "execution_count": 1,
   "id": "cc8a1f43",
   "metadata": {},
   "outputs": [],
   "source": [
    "import tensorflow as tf\n",
    "import os\n",
    "%config Completer.use_jedi=False"
   ]
  },
  {
   "cell_type": "code",
   "execution_count": 2,
   "id": "a5b0e763",
   "metadata": {},
   "outputs": [
    {
     "name": "stdout",
     "output_type": "stream",
     "text": [
      "cat  dog\r\n"
     ]
    }
   ],
   "source": [
    "!ls ../cats_n_dogs/train"
   ]
  },
  {
   "cell_type": "code",
   "execution_count": 3,
   "id": "e2829262",
   "metadata": {},
   "outputs": [],
   "source": [
    "petimages='../cats_n_dogs/validation'"
   ]
  },
  {
   "cell_type": "code",
   "execution_count": 4,
   "id": "b49a87ab",
   "metadata": {},
   "outputs": [
    {
     "name": "stdout",
     "output_type": "stream",
     "text": [
      "tf.Tensor(b'../cats_n_dogs/validation/cat/2221.jpg', shape=(), dtype=string)\n",
      "tf.Tensor(b'../cats_n_dogs/validation/cat/466.jpg', shape=(), dtype=string)\n",
      "tf.Tensor(b'../cats_n_dogs/validation/cat/7003.jpg', shape=(), dtype=string)\n",
      "tf.Tensor(b'../cats_n_dogs/validation/cat/1729.jpg', shape=(), dtype=string)\n",
      "tf.Tensor(b'../cats_n_dogs/validation/dog/7213.jpg', shape=(), dtype=string)\n"
     ]
    }
   ],
   "source": [
    "dataset=tf.data.Dataset.list_files(petimages+'*/*/*.jpg')\n",
    "for f in dataset.take(5):\n",
    "    print(f)"
   ]
  },
  {
   "cell_type": "code",
   "execution_count": 5,
   "id": "f7953dbb",
   "metadata": {},
   "outputs": [],
   "source": [
    "def parse_imgpath(filename):\n",
    "    label=tf.strings.split(filename,os.sep)[-2]\n",
    "    image = tf.io.read_file(filename)\n",
    "#     image = tf.image.decode_jpeg(image)\n",
    "    image=tf.image.decode_image(image,expand_animations=False,channels=3)\n",
    "    image = tf.image.convert_image_dtype(image, tf.float32)\n",
    "    image = tf.image.resize(image, [124, 124])\n",
    "    if label=='cat':\n",
    "        label=tf.constant(1)\n",
    "    else:\n",
    "        label=tf.constant(0)\n",
    "#     label=parse_label(label)\n",
    "    return image, label"
   ]
  },
  {
   "cell_type": "code",
   "execution_count": 6,
   "id": "aa310ea5",
   "metadata": {},
   "outputs": [],
   "source": [
    "dataset=dataset.map(parse_imgpath)"
   ]
  },
  {
   "cell_type": "code",
   "execution_count": 7,
   "id": "022dc2c6",
   "metadata": {},
   "outputs": [
    {
     "name": "stdout",
     "output_type": "stream",
     "text": [
      "(124, 124, 3) 0\n",
      "(124, 124, 3) 1\n",
      "(124, 124, 3) 1\n",
      "(124, 124, 3) 1\n",
      "(124, 124, 3) 1\n"
     ]
    }
   ],
   "source": [
    "for f in dataset.take(5):\n",
    "    print(f[0].shape,f[1].numpy())\n",
    "#     print(f)"
   ]
  },
  {
   "cell_type": "code",
   "execution_count": 8,
   "id": "cb684172",
   "metadata": {},
   "outputs": [],
   "source": [
    "def one_hot(image, label):\n",
    "    \"\"\"\n",
    "    Converts the label to categorical.\n",
    "    Arguments ~\n",
    "        image: Tensor of Shape (224,224,3) - Simply for outputting\n",
    "        label: Tensor of Shape (32,) for casting and converting to categorical\n",
    "    Returns the image (as it was inputted) and the label converted to a categorical vector\n",
    "    \"\"\"\n",
    "    # Casts to an Int and performs one-hot ops\n",
    "    label = tf.one_hot(tf.cast(label, tf.int32), 2)\n",
    "    # Recasts it to Float32\n",
    "#     label = tf.cast(label, tf.float32)\n",
    "    return image, label"
   ]
  },
  {
   "cell_type": "code",
   "execution_count": 9,
   "id": "85435338",
   "metadata": {},
   "outputs": [],
   "source": [
    "dataset=dataset.map(one_hot)"
   ]
  },
  {
   "cell_type": "code",
   "execution_count": 10,
   "id": "65d9d0ff",
   "metadata": {},
   "outputs": [
    {
     "name": "stdout",
     "output_type": "stream",
     "text": [
      "(124, 124, 3) tf.Tensor([1. 0.], shape=(2,), dtype=float32)\n"
     ]
    }
   ],
   "source": [
    "for f in dataset.take(1):\n",
    "    print(f[0].shape,f[1])"
   ]
  },
  {
   "cell_type": "code",
   "execution_count": 11,
   "id": "aa49f8fb",
   "metadata": {},
   "outputs": [],
   "source": [
    "# def scale_image(image,label):\n",
    "#     image=tf.divide(image[0],tf.constant(1,dtype=tf.float32)) # images are already scaled,if not change 1 to 255\n",
    "#     return image,label"
   ]
  },
  {
   "cell_type": "code",
   "execution_count": 12,
   "id": "581e8f94",
   "metadata": {},
   "outputs": [],
   "source": [
    "# dataset=dataset.map(scale_image)\n",
    "# for f in dataset.take(1):\n",
    "#     print(f)"
   ]
  },
  {
   "cell_type": "code",
   "execution_count": 13,
   "id": "260f1f3a",
   "metadata": {},
   "outputs": [],
   "source": [
    "dataset=dataset.repeat(5).shuffle(buffer_size=100).batch(32)\n"
   ]
  },
  {
   "cell_type": "code",
   "execution_count": 14,
   "id": "23202062",
   "metadata": {},
   "outputs": [
    {
     "name": "stdout",
     "output_type": "stream",
     "text": [
      "(32, 124, 124, 3) tf.Tensor(\n",
      "[[1. 0.]\n",
      " [0. 1.]\n",
      " [0. 1.]\n",
      " [0. 1.]\n",
      " [0. 1.]\n",
      " [1. 0.]\n",
      " [0. 1.]\n",
      " [0. 1.]\n",
      " [1. 0.]\n",
      " [1. 0.]\n",
      " [1. 0.]\n",
      " [0. 1.]\n",
      " [1. 0.]\n",
      " [1. 0.]\n",
      " [0. 1.]\n",
      " [1. 0.]\n",
      " [1. 0.]\n",
      " [0. 1.]\n",
      " [1. 0.]\n",
      " [1. 0.]\n",
      " [1. 0.]\n",
      " [0. 1.]\n",
      " [0. 1.]\n",
      " [0. 1.]\n",
      " [1. 0.]\n",
      " [1. 0.]\n",
      " [1. 0.]\n",
      " [1. 0.]\n",
      " [1. 0.]\n",
      " [1. 0.]\n",
      " [1. 0.]\n",
      " [0. 1.]], shape=(32, 2), dtype=float32)\n"
     ]
    }
   ],
   "source": [
    "for f in dataset.take(1):\n",
    "    print(f[0].shape,f[1])"
   ]
  },
  {
   "cell_type": "code",
   "execution_count": 15,
   "id": "4986bb0f",
   "metadata": {},
   "outputs": [
    {
     "name": "stdout",
     "output_type": "stream",
     "text": [
      "Model: \"sequential\"\n",
      "_________________________________________________________________\n",
      "Layer (type)                 Output Shape              Param #   \n",
      "=================================================================\n",
      "conv2d (Conv2D)              (None, 122, 122, 16)      448       \n",
      "_________________________________________________________________\n",
      "max_pooling2d (MaxPooling2D) (None, 61, 61, 16)        0         \n",
      "_________________________________________________________________\n",
      "conv2d_1 (Conv2D)            (None, 59, 59, 64)        9280      \n",
      "_________________________________________________________________\n",
      "max_pooling2d_1 (MaxPooling2 (None, 29, 29, 64)        0         \n",
      "_________________________________________________________________\n",
      "conv2d_2 (Conv2D)            (None, 27, 27, 128)       73856     \n",
      "_________________________________________________________________\n",
      "max_pooling2d_2 (MaxPooling2 (None, 13, 13, 128)       0         \n",
      "_________________________________________________________________\n",
      "flatten (Flatten)            (None, 21632)             0         \n",
      "_________________________________________________________________\n",
      "dense (Dense)                (None, 100)               2163300   \n",
      "_________________________________________________________________\n",
      "dense_1 (Dense)              (None, 2)                 202       \n",
      "=================================================================\n",
      "Total params: 2,247,086\n",
      "Trainable params: 2,247,086\n",
      "Non-trainable params: 0\n",
      "_________________________________________________________________\n"
     ]
    }
   ],
   "source": [
    "model = tf.keras.models.Sequential()\n",
    "model.add(tf.keras.layers.Conv2D(filters=16, kernel_size=(\n",
    "    3, 3), activation='relu', input_shape=(124, 124, 3)))\n",
    "model.add(tf.keras.layers.MaxPooling2D((2, 2)))\n",
    "model.add(tf.keras.layers.Conv2D(\n",
    "    filters=64, kernel_size=(3, 3), activation='relu'))\n",
    "model.add(tf.keras.layers.MaxPooling2D((2, 2)))\n",
    "model.add(tf.keras.layers.Conv2D(\n",
    "    filters=128, kernel_size=(3, 3), activation='relu'))\n",
    "model.add(tf.keras.layers.MaxPooling2D((2, 2)))\n",
    "model.add(tf.keras.layers.Flatten())\n",
    "model.add(tf.keras.layers.Dense(100, activation='relu'))\n",
    "model.add(tf.keras.layers.Dense(2, activation='softmax'))\n",
    "model.summary()"
   ]
  },
  {
   "cell_type": "code",
   "execution_count": 16,
   "id": "9717d790",
   "metadata": {},
   "outputs": [],
   "source": [
    "# model.compile(optimizer='adam',loss='categorical_crossentropy',metrics=['accuracy'])\n",
    "model.compile(optimizer='adam',\n",
    "                  loss='categorical_crossentropy', metrics=['accuracy'])"
   ]
  },
  {
   "cell_type": "code",
   "execution_count": 17,
   "id": "75dcc46c",
   "metadata": {},
   "outputs": [
    {
     "name": "stdout",
     "output_type": "stream",
     "text": [
      "Epoch 1/10\n",
      "63/63 [==============================] - 15s 222ms/step - loss: 0.6764 - accuracy: 0.5995\n",
      "Epoch 2/10\n",
      "63/63 [==============================] - 14s 217ms/step - loss: 0.3633 - accuracy: 0.8415\n",
      "Epoch 3/10\n",
      "63/63 [==============================] - 14s 215ms/step - loss: 0.1356 - accuracy: 0.9495\n",
      "Epoch 4/10\n",
      "63/63 [==============================] - 15s 229ms/step - loss: 0.0121 - accuracy: 0.9990\n",
      "Epoch 5/10\n",
      "63/63 [==============================] - 14s 215ms/step - loss: 0.0016 - accuracy: 1.0000\n",
      "Epoch 6/10\n",
      "63/63 [==============================] - 15s 231ms/step - loss: 6.9768e-04 - accuracy: 1.0000\n",
      "Epoch 7/10\n",
      "63/63 [==============================] - 14s 221ms/step - loss: 4.3688e-04 - accuracy: 1.0000\n",
      "Epoch 8/10\n",
      "63/63 [==============================] - 17s 262ms/step - loss: 3.0365e-04 - accuracy: 1.0000\n",
      "Epoch 9/10\n",
      "63/63 [==============================] - 15s 228ms/step - loss: 2.2037e-04 - accuracy: 1.0000\n",
      "Epoch 10/10\n",
      "63/63 [==============================] - 14s 221ms/step - loss: 1.6814e-04 - accuracy: 1.0000\n"
     ]
    }
   ],
   "source": [
    "r = model.fit(\n",
    "dataset,batch_size=32,epochs=10\n",
    ")"
   ]
  }
 ],
 "metadata": {
  "kernelspec": {
   "display_name": "Python 3",
   "language": "python",
   "name": "python3"
  },
  "language_info": {
   "codemirror_mode": {
    "name": "ipython",
    "version": 3
   },
   "file_extension": ".py",
   "mimetype": "text/x-python",
   "name": "python",
   "nbconvert_exporter": "python",
   "pygments_lexer": "ipython3",
   "version": "3.6.9"
  }
 },
 "nbformat": 4,
 "nbformat_minor": 5
}
